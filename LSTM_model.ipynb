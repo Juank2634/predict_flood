{
 "cells": [
  {
   "cell_type": "code",
   "execution_count": 1,
   "metadata": {},
   "outputs": [],
   "source": [
    "from sklearn.preprocessing import MinMaxScaler\n",
    "from sklearn import metrics\n",
    "from sklearn.metrics import mean_squared_error, mean_absolute_error, r2_score, mean_absolute_percentage_error\n",
    "\n",
    "import pandas as pd\n",
    "import numpy as np\n",
    "import matplotlib.pyplot as plt\n",
    "import seaborn as sns\n",
    "import os\n",
    "import seaborn as sns\n",
    "import math\n",
    "\n",
    "from sklearn import preprocessing\n",
    "\n",
    "from sklearn.preprocessing import LabelEncoder\n",
    "from sklearn.model_selection import train_test_split\n",
    "from sklearn.metrics import confusion_matrix, classification_report\n",
    "\n",
    "import torch\n",
    "from torch import nn, optim\n",
    "import torch.nn.functional as func\n",
    "from torch.utils.data import DataLoader, Dataset\n",
    "from torch.utils.data import TensorDataset, DataLoader\n",
    "\n",
    "from torch.optim.lr_scheduler import ReduceLROnPlateau\n",
    "from sklearn.model_selection import ParameterGrid"
   ]
  },
  {
   "cell_type": "code",
   "execution_count": 2,
   "metadata": {},
   "outputs": [],
   "source": [
    "# Guardar la variable imputation_lluvia_aitsu en otra variable para las modificaciones\n",
    "variable = 'NIVEL_RIO_Aitzu-Urola'\n",
    "data_river_2 = pd.read_csv('db_21.csv')\n",
    "data_river_2 = data_river_2.set_index('Fecha')\n",
    "# asignar un formato de fecha a la columna fecha\n",
    "data_river_2.index = pd.to_datetime(data_river_2.index, format='%Y-%m-%d %H:%M:%S')\n",
    "imputation_lluvia_aitsu = data_river_2[[variable]].copy()"
   ]
  },
  {
   "cell_type": "code",
   "execution_count": 3,
   "metadata": {},
   "outputs": [],
   "source": [
    "def analyze_duplicate_indices(df):\n",
    "    # Identificar índices duplicados\n",
    "    duplicated_indices = df.index[df.index.duplicated(keep=False)]\n",
    "    \n",
    "    if duplicated_indices.empty:\n",
    "        print(\"No se encontraron índices duplicados.\")\n",
    "        return None\n",
    "\n",
    "    # Ordenar los duplicados\n",
    "    duplicates_sorted = df.loc[duplicated_indices].sort_index()\n",
    "\n",
    "    # Agrupar los duplicados\n",
    "    grouped_duplicates = duplicates_sorted.groupby(duplicates_sorted.index)\n",
    "\n",
    "    duplicate_info = []\n",
    "\n",
    "    for idx, group in grouped_duplicates:\n",
    "        duplicate_info.append({\n",
    "            'index': idx,\n",
    "            'count': len(group),\n",
    "            'values': group.values.flatten().tolist()\n",
    "        })\n",
    "\n",
    "    return duplicate_info\n",
    "\n",
    "def remove_duplicate_indices(df, method='first'):\n",
    "    # Analizar duplicados\n",
    "    duplicate_info = analyze_duplicate_indices(df)\n",
    "    \n",
    "    if not duplicate_info:\n",
    "        print(\"No hay índices duplicados para eliminar.\")\n",
    "        return df\n",
    "    \n",
    "    # Eliminar duplicados\n",
    "    df_sin_duplicados = df[~df.index.duplicated(keep=method)]\n",
    "    \n",
    "    print(f\"Se eliminaron {len(df) - len(df_sin_duplicados)} filas con índices duplicados.\")\n",
    "    print(f\"Tamaño original del DataFrame: {len(df)}\")\n",
    "    print(f\"Tamaño del DataFrame sin duplicados: {len(df_sin_duplicados)}\")\n",
    "    \n",
    "    return df_sin_duplicados\n",
    "\n",
    "def find_nan_sequences(df, max_consecutive_nans=120, view=False):\n",
    "    nan_index = df[df.isnull().any(axis=1)].index\n",
    "    # print(nan_index)\n",
    "    nan_sequences = []\n",
    "    \n",
    "    if len(nan_index) == 0:\n",
    "        return nan_sequences\n",
    "\n",
    "    start_date = nan_index[0]\n",
    "    prev_date = nan_index[0]\n",
    "    \n",
    "    for i in range(1, len(nan_index)):\n",
    "        current_date = nan_index[i]\n",
    "        \n",
    "        if current_date - prev_date != pd.Timedelta('1 hour 00:00:00'):\n",
    "            # No es consecutivo, guardar la secuencia anterior\n",
    "            end_date = prev_date\n",
    "            num_nans = (end_date - start_date).total_seconds() / 3600 + 1\n",
    "            \n",
    "            if num_nans == 1:\n",
    "                nan_sequences.append({\n",
    "                    'type': 'single',\n",
    "                    'start_date': start_date,\n",
    "                    'end_date': end_date,\n",
    "                    'num_nans': num_nans\n",
    "                })\n",
    "            elif num_nans <= max_consecutive_nans:\n",
    "                nan_sequences.append({\n",
    "                    'type': 'consecutive',\n",
    "                    'start_date': start_date,\n",
    "                    'end_date': end_date,\n",
    "                    'num_nans': num_nans\n",
    "                })\n",
    "            elif num_nans > max_consecutive_nans:\n",
    "                nan_sequences.append({\n",
    "                    'type': 'long_consecutive',\n",
    "                    'start_date': start_date,\n",
    "                    'end_date': end_date,\n",
    "                    'num_nans': num_nans\n",
    "                })\n",
    "            else:\n",
    "                if view:\n",
    "                    print(f'Secuencia de NaN mayor a {max_consecutive_nans} horas: {start_date} a {end_date}, {num_nans} valores')\n",
    "            \n",
    "            # Iniciar una nueva secuencia\n",
    "            start_date = current_date\n",
    "        \n",
    "        prev_date = current_date\n",
    "    \n",
    "    # Manejar la última secuencia\n",
    "    end_date = prev_date\n",
    "    num_nans = (end_date - start_date).total_seconds() / 3600 + 1\n",
    "    \n",
    "    if num_nans == 1:\n",
    "        nan_sequences.append({\n",
    "            'type': 'single',\n",
    "            'date': start_date\n",
    "        })\n",
    "    elif num_nans <= max_consecutive_nans:\n",
    "        nan_sequences.append({\n",
    "            'type': 'consecutive',\n",
    "            'start_date': start_date,\n",
    "            'end_date': end_date,\n",
    "            'num_nans': num_nans\n",
    "        })\n",
    "    else:\n",
    "        if view:\n",
    "            print(f'Secuencia de NaN mayor a {max_consecutive_nans} horas: {start_date} a {end_date}, {num_nans} valores')\n",
    "    \n",
    "    return nan_sequences\n",
    "\n",
    "def calculate_metrics(y_true, y_pred):\n",
    "    mse = mean_squared_error(y_true, y_pred)\n",
    "    rmse = np.sqrt(mse)\n",
    "    mae = mean_absolute_error(y_true, y_pred)\n",
    "    r2 = r2_score(y_true, y_pred)\n",
    "    mape = mean_absolute_percentage_error(y_true, y_pred)\n",
    "    \n",
    "    print(f\"MSE: {mse:.4f}\")\n",
    "    print(f\"RMSE: {rmse:.4f}\")\n",
    "    print(f\"MAE: {mae:.4f}\")\n",
    "    print(f\"R2 Score: {r2:.4f}\")\n",
    "    print(f\"MAPE: {mape:.4f}\")\n",
    "    \n",
    "    return mse, rmse, mae, r2, mape\n",
    "\n",
    "def plot_evaluation_metrics(metrics_list):\n",
    "    metrics_names = ['MSE', 'RMSE', 'MAE', 'R2', 'MAPE']\n",
    "\n",
    "    fig, axs = plt.subplots(2, 3, figsize=(15, 10))\n",
    "    fig.suptitle('Métricas de Evaluación a lo largo del tiempo')\n",
    "    \n",
    "    for i, metric_name in enumerate(metrics_names):\n",
    "        row = i // 3\n",
    "        col = i % 3\n",
    "        axs[row, col].plot(range(len(metrics_list)), [m[i] for m in metrics_list])\n",
    "        axs[row, col].set_title(metric_name)\n",
    "        axs[row, col].set_xlabel('Iteración')\n",
    "        axs[row, col].set_ylabel('Valor')\n",
    "    \n",
    "    plt.tight_layout()\n",
    "    plt.show()\n",
    "\n",
    "def early_stopping(val_losses, patience=10):\n",
    "    if len(val_losses) > patience:\n",
    "        if all(val_losses[-i-1] <= val_losses[-i] for i in range(1, patience)):\n",
    "            return True\n",
    "    return False\n",
    "\n",
    "from tqdm import tqdm\n",
    "device = \"cuda\" if torch.cuda.is_available() else \"cpu\"\n",
    "def fit(model, dataloader, epoch=100):\n",
    "        model.to(device)\n",
    "        optimizer = torch.optim.Adam(model.parameters(), lr=0.001)\n",
    "        scheduler = torch.optim.lr_scheduler.ReduceLROnPlateau(optimizer, 'min', patience=5)\n",
    "        criterion = torch.nn.MSELoss()\n",
    "        val_losses = []\n",
    "        bar = tqdm(range(1,epoch+1))\n",
    "\n",
    "        train_predictions = []\n",
    "        val_predictions = []\n",
    "        train_actuals = []\n",
    "        val_actuals = []\n",
    "\n",
    "        for epoch in bar:\n",
    "            model.train()\n",
    "            train_loss = []\n",
    "            train_loss2 = []\n",
    "            epoch_train_preds = []\n",
    "            epoch_train_actuals = []\n",
    "\n",
    "            for batch in dataloader['train']:\n",
    "                X, y = batch\n",
    "                X, y = X.to(device).float(), y.to(device).float()\n",
    "                optimizer.zero_grad()\n",
    "                y_hat = model(X)\n",
    "                loss = criterion(y_hat, y)\n",
    "                loss.backward()\n",
    "                optimizer.step()\n",
    "                train_loss.append(loss.item())\n",
    "                train_loss2.append((y[:,-1]-y_hat[:,-1]).pow(2).mean().item())\n",
    "\n",
    "                epoch_train_preds.append(y_hat.detach().cpu().numpy())\n",
    "                epoch_train_actuals.append(y.detach().cpu().numpy())\n",
    "            \n",
    "            train_predictions.append(np.concatenate(epoch_train_preds))\n",
    "            train_actuals.append(np.concatenate(epoch_train_actuals))\n",
    "\n",
    "            model.eval()\n",
    "            eval_loss = []\n",
    "            eval_loss2 = []\n",
    "            epoch_val_preds = []\n",
    "            epoch_val_actuals = []\n",
    "\n",
    "            with torch.no_grad():\n",
    "                for batch in dataloader['eval']:\n",
    "                    X, y = batch\n",
    "                    X, y = X.to(device).float(), y.to(device).float()\n",
    "                    y_hat = model(X)\n",
    "                    loss = criterion(y_hat, y)\n",
    "                    eval_loss.append(loss.item())\n",
    "                    eval_loss2.append((y[:,-1]-y_hat[:,-1]).pow(2).mean().item())\n",
    "                    epoch_val_preds.append(y_hat.detach().cpu().numpy())\n",
    "                    epoch_val_actuals.append(y.detach().cpu().numpy())\n",
    "            \n",
    "            val_loss = np.mean(eval_loss)\n",
    "            val_losses.append(val_loss)\n",
    "            \n",
    "            if early_stopping(val_losses):\n",
    "                print(f\"Early stopping at epoch {epoch}\")\n",
    "                break\n",
    "            scheduler.step(val_loss)\n",
    "            val_predictions.append(np.concatenate(epoch_val_preds))\n",
    "            val_actuals.append(np.concatenate(epoch_val_actuals))\n",
    "\n",
    "            bar.set_description(f\"loss {np.mean(train_loss):.5f} loss_last_step {np.mean(train_loss2):.5f} val_loss {np.mean(eval_loss):.5f} val_loss_last_step {np.mean(eval_loss2):.5f}\")\n",
    "\n",
    "        return {\n",
    "            'train_predictions': train_predictions,\n",
    "            'val_predictions': val_predictions,\n",
    "            'train_actuals': train_actuals,\n",
    "            'val_actuals': val_actuals\n",
    "        }\n",
    "\n",
    "def predict(model, dataloader):\n",
    "    model.eval()\n",
    "    with torch.no_grad():\n",
    "        preds = torch.tensor([]).to(device)\n",
    "        for batch in dataloader:\n",
    "            X = batch\n",
    "            X = X.to(device).float()\n",
    "            pred = model(X)\n",
    "            preds = torch.cat([preds, pred])\n",
    "        return preds\n",
    "    \n",
    "def fit1(model, dataloader, param_grid, epochs=100, patience=10):\n",
    "    device = torch.device(\"cuda\" if torch.cuda.is_available() else \"cpu\")\n",
    "    model.to(device)\n",
    "    criterion = torch.nn.MSELoss()\n",
    "\n",
    "    best_val_loss = float('inf')\n",
    "    best_params = None\n",
    "    best_model = None\n",
    "\n",
    "    results = {}\n",
    "\n",
    "    for params in ParameterGrid(param_grid):\n",
    "        print(f\"Training with parameters: {params}\")\n",
    "        model.apply(lambda m: m.reset_parameters() if hasattr(m, 'reset_parameters') else None)\n",
    "        \n",
    "        optimizer = torch.optim.Adam(model.parameters(), lr=params['learning_rate'])\n",
    "        scheduler = ReduceLROnPlateau(optimizer, 'min', patience=5, factor=0.5)\n",
    "\n",
    "        val_losses = []\n",
    "        train_losses = []\n",
    "        \n",
    "        for epoch in tqdm(range(1, epochs + 1)):\n",
    "            model.train()\n",
    "            train_loss = []\n",
    "\n",
    "            for batch in dataloader['train']:\n",
    "                X, y = batch\n",
    "                X, y = X.to(device).float(), y.to(device).float()\n",
    "                optimizer.zero_grad()\n",
    "                y_hat = model(X)\n",
    "                loss = criterion(y_hat, y)\n",
    "                loss.backward()\n",
    "                \n",
    "                torch.nn.utils.clip_grad_norm_(model.parameters(), max_norm=1.0)\n",
    "                \n",
    "                optimizer.step()\n",
    "                train_loss.append(loss.item())\n",
    "\n",
    "            avg_train_loss = np.mean(train_loss)\n",
    "            train_losses.append(avg_train_loss)\n",
    "\n",
    "            model.eval()\n",
    "            val_loss = []\n",
    "\n",
    "            with torch.no_grad():\n",
    "                for batch in dataloader['eval']:\n",
    "                    X, y = batch\n",
    "                    X, y = X.to(device).float(), y.to(device).float()\n",
    "                    y_hat = model(X)\n",
    "                    loss = criterion(y_hat, y)\n",
    "                    val_loss.append(loss.item())\n",
    "\n",
    "            avg_val_loss = np.mean(val_loss)\n",
    "            val_losses.append(avg_val_loss)\n",
    "\n",
    "            scheduler.step(avg_val_loss)\n",
    "\n",
    "            if avg_val_loss < best_val_loss:\n",
    "                best_val_loss = avg_val_loss\n",
    "                best_params = params\n",
    "                best_model = model.state_dict().copy()\n",
    "                counter = 0\n",
    "            else:\n",
    "                counter += 1\n",
    "                if counter >= patience:\n",
    "                    print(f\"Early stopping at epoch {epoch}\")\n",
    "                    break\n",
    "                    \n",
    "            print(f\"Epoch {epoch}, Train Loss: {avg_train_loss:.6f}, Val Loss: {avg_val_loss:.6f}\")\n",
    "\n",
    "        print(f\"Best validation loss: {best_val_loss}\")\n",
    "\n",
    "    # Load best model\n",
    "    model.load_state_dict(best_model)\n",
    "    results = {\n",
    "        'model': model,\n",
    "        'best_params': best_params,\n",
    "        'train_losses': train_losses,\n",
    "        'val_losses': val_losses,\n",
    "        'best_val_loss': best_val_loss\n",
    "    }\n",
    "\n",
    "    return results\n",
    "\n",
    "def plot_residuals(y_true, y_pred):\n",
    "        residuals = y_true - y_pred\n",
    "        plt.figure(figsize=(10, 6))\n",
    "        plt.scatter(y_pred, residuals)\n",
    "        plt.xlabel('Predicted Values')\n",
    "        plt.ylabel('Residuals')\n",
    "        plt.title('Residual Plot')\n",
    "        plt.axhline(y=0, color='r', linestyle='--')\n",
    "        plt.show()"
   ]
  },
  {
   "cell_type": "code",
   "execution_count": 4,
   "metadata": {},
   "outputs": [
    {
     "name": "stdout",
     "output_type": "stream",
     "text": [
      "No se encontraron índices duplicados.\n",
      "No se encontraron índices duplicados.\n",
      "No hay índices duplicados para eliminar.\n",
      "Secuencia de NaN mayor a 120 horas: 2023-10-01 00:00:00 a 2024-12-31 23:00:00, 10992.0 valores\n",
      "{'type': 'long_consecutive', 'start_date': Timestamp('1999-01-01 00:00:00'), 'end_date': Timestamp('1999-03-16 16:00:00'), 'num_nans': 1793.0}\n",
      "{'type': 'single', 'start_date': Timestamp('2002-01-08 00:00:00'), 'end_date': Timestamp('2002-01-08 00:00:00'), 'num_nans': 1.0}\n",
      "{'type': 'consecutive', 'start_date': Timestamp('2003-02-05 12:00:00'), 'end_date': Timestamp('2003-02-05 23:00:00'), 'num_nans': 12.0}\n",
      "{'type': 'single', 'start_date': Timestamp('2004-11-04 08:00:00'), 'end_date': Timestamp('2004-11-04 08:00:00'), 'num_nans': 1.0}\n",
      "{'type': 'long_consecutive', 'start_date': Timestamp('2006-09-06 08:00:00'), 'end_date': Timestamp('2006-09-22 14:00:00'), 'num_nans': 391.0}\n",
      "{'type': 'consecutive', 'start_date': Timestamp('2009-02-03 17:00:00'), 'end_date': Timestamp('2009-02-06 15:00:00'), 'num_nans': 71.0}\n",
      "{'type': 'consecutive', 'start_date': Timestamp('2009-04-29 11:00:00'), 'end_date': Timestamp('2009-04-29 23:00:00'), 'num_nans': 13.0}\n",
      "{'type': 'consecutive', 'start_date': Timestamp('2010-08-03 09:00:00'), 'end_date': Timestamp('2010-08-06 11:00:00'), 'num_nans': 75.0}\n",
      "{'type': 'single', 'start_date': Timestamp('2012-02-23 10:00:00'), 'end_date': Timestamp('2012-02-23 10:00:00'), 'num_nans': 1.0}\n",
      "{'type': 'consecutive', 'start_date': Timestamp('2021-10-06 07:00:00'), 'end_date': Timestamp('2021-10-08 12:00:00'), 'num_nans': 54.0}\n",
      "{'type': 'long_consecutive', 'start_date': Timestamp('2021-10-13 10:00:00'), 'end_date': Timestamp('2021-11-02 17:00:00'), 'num_nans': 488.0}\n",
      "{'type': 'long_consecutive', 'start_date': Timestamp('2021-11-09 08:00:00'), 'end_date': Timestamp('2021-11-23 17:00:00'), 'num_nans': 346.0}\n",
      "{'type': 'consecutive', 'start_date': Timestamp('2021-12-21 00:00:00'), 'end_date': Timestamp('2021-12-21 01:00:00'), 'num_nans': 2.0}\n",
      "{'type': 'single', 'start_date': Timestamp('2021-12-21 04:00:00'), 'end_date': Timestamp('2021-12-21 04:00:00'), 'num_nans': 1.0}\n",
      "{'type': 'consecutive', 'start_date': Timestamp('2021-12-21 06:00:00'), 'end_date': Timestamp('2021-12-21 23:00:00'), 'num_nans': 18.0}\n",
      "{'type': 'long_consecutive', 'start_date': Timestamp('2022-01-18 14:00:00'), 'end_date': Timestamp('2022-01-26 15:00:00'), 'num_nans': 194.0}\n"
     ]
    }
   ],
   "source": [
    "# Usar la función\n",
    "duplicate_info = analyze_duplicate_indices(imputation_lluvia_aitsu)\n",
    "\n",
    "# Usar la función\n",
    "imputation_lluvia_aitsu_sin_duplicados = remove_duplicate_indices(imputation_lluvia_aitsu, method='first')\n",
    "\n",
    "# Uso de la función\n",
    "nan_sequences = find_nan_sequences(imputation_lluvia_aitsu_sin_duplicados, max_consecutive_nans=120, view=True)\n",
    "\n",
    "# Imprimir resultados\n",
    "for x in nan_sequences:\n",
    "    print(x)"
   ]
  },
  {
   "cell_type": "code",
   "execution_count": 5,
   "metadata": {},
   "outputs": [
    {
     "name": "stdout",
     "output_type": "stream",
     "text": [
      "Fecha de inicio para el entrenamiento ---->  1999-03-16 17:00:00\n",
      "Fecha de fin del entrenamiento ------>  2000-08-26 00:00:00\n",
      "NIVEL_RIO_Aitzu-Urola    1.07\n",
      "dtype: float64 NIVEL_RIO_Aitzu-Urola    0.051\n",
      "dtype: float64\n",
      "0.9999999999999999 0.0\n"
     ]
    }
   ],
   "source": [
    "metrics_history = []\n",
    "y_pred_list = []\n",
    "x = 1\n",
    "# Usando Pytorch\n",
    "init_train = nan_sequences[0]['end_date'] + pd.Timedelta('1 hour 00:00:00')\n",
    "end_train = nan_sequences[x]['start_date'] - pd.Timedelta('12000 hour 00:00:00')\n",
    "data = imputation_lluvia_aitsu_sin_duplicados[init_train:end_train]\n",
    "print('Fecha de inicio para el entrenamiento ----> ', data.index[0])\n",
    "print('Fecha de fin del entrenamiento ------> ', data.index[-1])\n",
    "# data = data[~data.index.duplicated(keep='first')]\n",
    "# data = data.asfreq('H')\n",
    "training_data_len = math.ceil(len(data)* 0.7)\n",
    "validation_data_len = math.ceil(len(data)* 0.15)\n",
    "testing_data_len = math.ceil(len(data)* 0.15)\n",
    "\n",
    "print(data.max(), data.min())\n",
    "scaler = MinMaxScaler(feature_range=(0,1))\n",
    "data1 = scaler.fit_transform(data)\n",
    "print(data1.max(), data1.min())\n",
    "\n",
    "dataset_train = data1[:training_data_len][:,:1]  \n",
    "dataset_val = data1[training_data_len:training_data_len + validation_data_len][:,:1]\n",
    "dataset_test = data1[training_data_len + validation_data_len:][:,:1]"
   ]
  },
  {
   "cell_type": "code",
   "execution_count": 8,
   "metadata": {},
   "outputs": [
    {
     "name": "stdout",
     "output_type": "stream",
     "text": [
      "X_train : (8756, 120, 1) y_train : (8756, 1)\n",
      "X_val : (1782, 120, 1) y_val : (1782, 1)\n",
      "X_test : (1782, 120, 1)\n"
     ]
    },
    {
     "name": "stderr",
     "output_type": "stream",
     "text": [
      "/home/alumno/anaconda3/envs/pytorch_ia4flood/lib/python3.8/site-packages/sklearn/base.py:465: UserWarning: X does not have valid feature names, but MinMaxScaler was fitted with feature names\n",
      "  warnings.warn(\n",
      "/home/alumno/anaconda3/envs/pytorch_ia4flood/lib/python3.8/site-packages/sklearn/base.py:465: UserWarning: X does not have valid feature names, but MinMaxScaler was fitted with feature names\n",
      "  warnings.warn(\n",
      "/home/alumno/anaconda3/envs/pytorch_ia4flood/lib/python3.8/site-packages/sklearn/base.py:465: UserWarning: X does not have valid feature names, but MinMaxScaler was fitted with feature names\n",
      "  warnings.warn(\n"
     ]
    }
   ],
   "source": [
    "# dataset_test = imputation_lluvia_aitsu_sin_duplicados[nan_sequences[x]['start_date']:nan_sequences[x]['end_date']]\n",
    "# #Cambiar los valores nan por valores 0\n",
    "# dataset_dataset_test = dataset_test.fillna(0) \n",
    "# print(dataset_train.shape, dataset_val.shape, dataset_test.shape)\n",
    "\n",
    "num_values_miss = 120\n",
    "\n",
    "# Normalizar los datos\n",
    "scaler_train = scaler.transform(dataset_train)\n",
    "scaler_val = scaler.transform(dataset_val)\n",
    "scaler_test = scaler.transform(dataset_test)\n",
    "\n",
    "X_train = []\n",
    "y_train = []\n",
    "\n",
    "for i in range(num_values_miss, len(scaler_train)):\n",
    "    X_train.append(scaler_train[i-num_values_miss:i, 0])\n",
    "    y_train.append(scaler_train[i, 0])\n",
    "\n",
    "X_train, y_train = np.array(X_train), np.array(y_train)\n",
    "X_train = np.reshape(X_train, (X_train.shape[0], X_train.shape[1], 1))\n",
    "y_train = np.reshape(y_train, (y_train.shape[0], 1))\n",
    "print('X_train :', X_train.shape, 'y_train :', y_train.shape)\n",
    "\n",
    "X_val = []\n",
    "y_val = []\n",
    "\n",
    "for i in range(num_values_miss, len(scaler_val)):\n",
    "    X_val.append(scaler_val[i-num_values_miss:i, 0])\n",
    "    y_val.append(scaler_val[i, 0])\n",
    "\n",
    "X_val, y_val = np.array(X_val), np.array(y_val)\n",
    "X_val = np.reshape(X_val, (X_val.shape[0], X_val.shape[1], 1))\n",
    "y_val = np.reshape(y_val, (y_val.shape[0], 1))\n",
    "print('X_val :', X_val.shape, 'y_val :', y_val.shape)\n",
    "\n",
    "# X_test = X_val[X_val.shape[0]-1:X_val.shape[0]]\n",
    "\n",
    "X_test = []\n",
    "y_test = []\n",
    "\n",
    "for i in range(num_values_miss, len(scaler_test)):\n",
    "    X_test.append(scaler_test[i-num_values_miss:i, 0])\n",
    "    y_test.append(scaler_test[i, 0])\n",
    "\n",
    "X_test, y_test = np.array(X_test), np.array(y_test)\n",
    "X_test = np.reshape(X_test, (X_test.shape[0], X_test.shape[1], 1))\n",
    "y_test = np.reshape(y_test, (y_test.shape[0], 1))\n",
    "\n",
    "print('X_test :', X_test.shape)\n",
    "dataset_train = pd.DataFrame(dataset_train)\n",
    "# print('Valores perdidos en los data sets: Train: {}, Val: {}, Test: {}'.format(dataset_train.isnull().sum().values[0], dataset_val.isnull().sum().values[0], dataset_test.isnull().sum().values[0]))"
   ]
  },
  {
   "cell_type": "code",
   "execution_count": 9,
   "metadata": {},
   "outputs": [],
   "source": [
    "class TimeSeriesDataset(Dataset):\n",
    "    def __init__(self, X, y=None, train=True):\n",
    "        self.X = X\n",
    "        self.y = y\n",
    "        self.train = train\n",
    "\n",
    "    def __len__(self):\n",
    "        return len(self.X)\n",
    "\n",
    "    def __getitem__(self, ix):\n",
    "        if self.train:\n",
    "            return torch.from_numpy(self.X[ix]), torch.from_numpy(self.y[ix])\n",
    "        return torch.from_numpy(self.X[ix])\n",
    "\n",
    "dataset = {\n",
    "    'train': TimeSeriesDataset(X_train, y_train),\n",
    "    'eval': TimeSeriesDataset(X_val, y_val),\n",
    "    'test': TimeSeriesDataset(X_test, train=False)\n",
    "}\n",
    "\n",
    "dataloader = {\n",
    "    'train': DataLoader(dataset['train'], shuffle=True, batch_size=64),\n",
    "    'eval': DataLoader(dataset['eval'], shuffle=False, batch_size=64),\n",
    "    'test': DataLoader(dataset['test'], shuffle=False, batch_size=64)\n",
    "}"
   ]
  },
  {
   "cell_type": "code",
   "execution_count": 17,
   "metadata": {},
   "outputs": [
    {
     "name": "stdout",
     "output_type": "stream",
     "text": [
      "Training with parameters: {'hidden_size': 64, 'learning_rate': 0.001, 'num_layers': 2}\n"
     ]
    },
    {
     "name": "stderr",
     "output_type": "stream",
     "text": [
      "  1%|          | 1/100 [00:00<00:59,  1.67it/s]"
     ]
    },
    {
     "name": "stdout",
     "output_type": "stream",
     "text": [
      "Epoch 1, Train Loss: 0.004359, Val Loss: 0.001143\n"
     ]
    },
    {
     "name": "stderr",
     "output_type": "stream",
     "text": [
      "  2%|▏         | 2/100 [00:01<00:57,  1.69it/s]"
     ]
    },
    {
     "name": "stdout",
     "output_type": "stream",
     "text": [
      "Epoch 2, Train Loss: 0.000683, Val Loss: 0.000974\n"
     ]
    },
    {
     "name": "stderr",
     "output_type": "stream",
     "text": [
      "  3%|▎         | 3/100 [00:01<00:59,  1.64it/s]"
     ]
    },
    {
     "name": "stdout",
     "output_type": "stream",
     "text": [
      "Epoch 3, Train Loss: 0.000531, Val Loss: 0.000793\n"
     ]
    },
    {
     "name": "stderr",
     "output_type": "stream",
     "text": [
      "  4%|▍         | 4/100 [00:02<00:58,  1.63it/s]"
     ]
    },
    {
     "name": "stdout",
     "output_type": "stream",
     "text": [
      "Epoch 4, Train Loss: 0.000415, Val Loss: 0.000722\n"
     ]
    },
    {
     "name": "stderr",
     "output_type": "stream",
     "text": [
      "  5%|▌         | 5/100 [00:03<00:56,  1.68it/s]"
     ]
    },
    {
     "name": "stdout",
     "output_type": "stream",
     "text": [
      "Epoch 5, Train Loss: 0.000382, Val Loss: 0.000599\n"
     ]
    },
    {
     "name": "stderr",
     "output_type": "stream",
     "text": [
      "  6%|▌         | 6/100 [00:03<00:55,  1.69it/s]"
     ]
    },
    {
     "name": "stdout",
     "output_type": "stream",
     "text": [
      "Epoch 6, Train Loss: 0.000318, Val Loss: 0.000550\n"
     ]
    },
    {
     "name": "stderr",
     "output_type": "stream",
     "text": [
      "  7%|▋         | 7/100 [00:04<00:54,  1.71it/s]"
     ]
    },
    {
     "name": "stdout",
     "output_type": "stream",
     "text": [
      "Epoch 7, Train Loss: 0.000295, Val Loss: 0.000487\n"
     ]
    },
    {
     "name": "stderr",
     "output_type": "stream",
     "text": [
      "  8%|▊         | 8/100 [00:04<00:53,  1.72it/s]"
     ]
    },
    {
     "name": "stdout",
     "output_type": "stream",
     "text": [
      "Epoch 8, Train Loss: 0.000257, Val Loss: 0.000450\n"
     ]
    },
    {
     "name": "stderr",
     "output_type": "stream",
     "text": [
      "  9%|▉         | 9/100 [00:05<00:55,  1.64it/s]"
     ]
    },
    {
     "name": "stdout",
     "output_type": "stream",
     "text": [
      "Epoch 9, Train Loss: 0.000248, Val Loss: 0.000447\n"
     ]
    },
    {
     "name": "stderr",
     "output_type": "stream",
     "text": [
      " 10%|█         | 10/100 [00:05<00:53,  1.68it/s]"
     ]
    },
    {
     "name": "stdout",
     "output_type": "stream",
     "text": [
      "Epoch 10, Train Loss: 0.000225, Val Loss: 0.000380\n"
     ]
    },
    {
     "name": "stderr",
     "output_type": "stream",
     "text": [
      " 11%|█         | 11/100 [00:06<00:53,  1.67it/s]"
     ]
    },
    {
     "name": "stdout",
     "output_type": "stream",
     "text": [
      "Epoch 11, Train Loss: 0.000206, Val Loss: 0.000346\n"
     ]
    },
    {
     "name": "stderr",
     "output_type": "stream",
     "text": [
      " 12%|█▏        | 12/100 [00:07<00:52,  1.66it/s]"
     ]
    },
    {
     "name": "stdout",
     "output_type": "stream",
     "text": [
      "Epoch 12, Train Loss: 0.000187, Val Loss: 0.000347\n"
     ]
    },
    {
     "name": "stderr",
     "output_type": "stream",
     "text": [
      " 13%|█▎        | 13/100 [00:07<00:51,  1.68it/s]"
     ]
    },
    {
     "name": "stdout",
     "output_type": "stream",
     "text": [
      "Epoch 13, Train Loss: 0.000177, Val Loss: 0.000336\n"
     ]
    },
    {
     "name": "stderr",
     "output_type": "stream",
     "text": [
      " 14%|█▍        | 14/100 [00:08<00:52,  1.65it/s]"
     ]
    },
    {
     "name": "stdout",
     "output_type": "stream",
     "text": [
      "Epoch 14, Train Loss: 0.000166, Val Loss: 0.000307\n"
     ]
    },
    {
     "name": "stderr",
     "output_type": "stream",
     "text": [
      " 15%|█▌        | 15/100 [00:08<00:51,  1.66it/s]"
     ]
    },
    {
     "name": "stdout",
     "output_type": "stream",
     "text": [
      "Epoch 15, Train Loss: 0.000157, Val Loss: 0.000308\n"
     ]
    },
    {
     "name": "stderr",
     "output_type": "stream",
     "text": [
      " 16%|█▌        | 16/100 [00:09<00:50,  1.66it/s]"
     ]
    },
    {
     "name": "stdout",
     "output_type": "stream",
     "text": [
      "Epoch 16, Train Loss: 0.000167, Val Loss: 0.000281\n"
     ]
    },
    {
     "name": "stderr",
     "output_type": "stream",
     "text": [
      " 17%|█▋        | 17/100 [00:10<00:49,  1.66it/s]"
     ]
    },
    {
     "name": "stdout",
     "output_type": "stream",
     "text": [
      "Epoch 17, Train Loss: 0.000162, Val Loss: 0.000286\n"
     ]
    },
    {
     "name": "stderr",
     "output_type": "stream",
     "text": [
      " 18%|█▊        | 18/100 [00:10<00:49,  1.64it/s]"
     ]
    },
    {
     "name": "stdout",
     "output_type": "stream",
     "text": [
      "Epoch 18, Train Loss: 0.000158, Val Loss: 0.000253\n"
     ]
    },
    {
     "name": "stderr",
     "output_type": "stream",
     "text": [
      " 19%|█▉        | 19/100 [00:11<00:49,  1.63it/s]"
     ]
    },
    {
     "name": "stdout",
     "output_type": "stream",
     "text": [
      "Epoch 19, Train Loss: 0.000153, Val Loss: 0.000252\n"
     ]
    },
    {
     "name": "stderr",
     "output_type": "stream",
     "text": [
      " 20%|██        | 20/100 [00:12<00:48,  1.65it/s]"
     ]
    },
    {
     "name": "stdout",
     "output_type": "stream",
     "text": [
      "Epoch 20, Train Loss: 0.000133, Val Loss: 0.000260\n"
     ]
    },
    {
     "name": "stderr",
     "output_type": "stream",
     "text": [
      " 21%|██        | 21/100 [00:12<00:47,  1.68it/s]"
     ]
    },
    {
     "name": "stdout",
     "output_type": "stream",
     "text": [
      "Epoch 21, Train Loss: 0.000150, Val Loss: 0.000244\n"
     ]
    },
    {
     "name": "stderr",
     "output_type": "stream",
     "text": [
      " 22%|██▏       | 22/100 [00:13<00:47,  1.65it/s]"
     ]
    },
    {
     "name": "stdout",
     "output_type": "stream",
     "text": [
      "Epoch 22, Train Loss: 0.000121, Val Loss: 0.000240\n"
     ]
    },
    {
     "name": "stderr",
     "output_type": "stream",
     "text": [
      " 23%|██▎       | 23/100 [00:14<00:51,  1.50it/s]"
     ]
    },
    {
     "name": "stdout",
     "output_type": "stream",
     "text": [
      "Epoch 23, Train Loss: 0.000120, Val Loss: 0.000217\n"
     ]
    },
    {
     "name": "stderr",
     "output_type": "stream",
     "text": [
      " 24%|██▍       | 24/100 [00:14<00:49,  1.53it/s]"
     ]
    },
    {
     "name": "stdout",
     "output_type": "stream",
     "text": [
      "Epoch 24, Train Loss: 0.000128, Val Loss: 0.000224\n"
     ]
    },
    {
     "name": "stderr",
     "output_type": "stream",
     "text": [
      " 25%|██▌       | 25/100 [00:15<00:48,  1.53it/s]"
     ]
    },
    {
     "name": "stdout",
     "output_type": "stream",
     "text": [
      "Epoch 25, Train Loss: 0.000123, Val Loss: 0.000225\n"
     ]
    },
    {
     "name": "stderr",
     "output_type": "stream",
     "text": [
      " 26%|██▌       | 26/100 [00:15<00:48,  1.53it/s]"
     ]
    },
    {
     "name": "stdout",
     "output_type": "stream",
     "text": [
      "Epoch 26, Train Loss: 0.000106, Val Loss: 0.000213\n"
     ]
    },
    {
     "name": "stderr",
     "output_type": "stream",
     "text": [
      " 27%|██▋       | 27/100 [00:16<00:47,  1.55it/s]"
     ]
    },
    {
     "name": "stdout",
     "output_type": "stream",
     "text": [
      "Epoch 27, Train Loss: 0.000129, Val Loss: 0.000220\n"
     ]
    },
    {
     "name": "stderr",
     "output_type": "stream",
     "text": [
      " 28%|██▊       | 28/100 [00:17<00:45,  1.57it/s]"
     ]
    },
    {
     "name": "stdout",
     "output_type": "stream",
     "text": [
      "Epoch 28, Train Loss: 0.000116, Val Loss: 0.000203\n"
     ]
    },
    {
     "name": "stderr",
     "output_type": "stream",
     "text": [
      " 29%|██▉       | 29/100 [00:17<00:44,  1.59it/s]"
     ]
    },
    {
     "name": "stdout",
     "output_type": "stream",
     "text": [
      "Epoch 29, Train Loss: 0.000103, Val Loss: 0.000212\n"
     ]
    },
    {
     "name": "stderr",
     "output_type": "stream",
     "text": [
      " 30%|███       | 30/100 [00:18<00:43,  1.60it/s]"
     ]
    },
    {
     "name": "stdout",
     "output_type": "stream",
     "text": [
      "Epoch 30, Train Loss: 0.000111, Val Loss: 0.000231\n"
     ]
    },
    {
     "name": "stderr",
     "output_type": "stream",
     "text": [
      " 31%|███       | 31/100 [00:19<00:42,  1.61it/s]"
     ]
    },
    {
     "name": "stdout",
     "output_type": "stream",
     "text": [
      "Epoch 31, Train Loss: 0.000107, Val Loss: 0.000194\n"
     ]
    },
    {
     "name": "stderr",
     "output_type": "stream",
     "text": [
      " 32%|███▏      | 32/100 [00:19<00:41,  1.65it/s]"
     ]
    },
    {
     "name": "stdout",
     "output_type": "stream",
     "text": [
      "Epoch 32, Train Loss: 0.000101, Val Loss: 0.000192\n"
     ]
    },
    {
     "name": "stderr",
     "output_type": "stream",
     "text": [
      " 33%|███▎      | 33/100 [00:20<00:41,  1.61it/s]"
     ]
    },
    {
     "name": "stdout",
     "output_type": "stream",
     "text": [
      "Epoch 33, Train Loss: 0.000101, Val Loss: 0.000226\n"
     ]
    },
    {
     "name": "stderr",
     "output_type": "stream",
     "text": [
      " 34%|███▍      | 34/100 [00:20<00:41,  1.60it/s]"
     ]
    },
    {
     "name": "stdout",
     "output_type": "stream",
     "text": [
      "Epoch 34, Train Loss: 0.000107, Val Loss: 0.000195\n"
     ]
    },
    {
     "name": "stderr",
     "output_type": "stream",
     "text": [
      " 35%|███▌      | 35/100 [00:21<00:39,  1.65it/s]"
     ]
    },
    {
     "name": "stdout",
     "output_type": "stream",
     "text": [
      "Epoch 35, Train Loss: 0.000100, Val Loss: 0.000192\n"
     ]
    },
    {
     "name": "stderr",
     "output_type": "stream",
     "text": [
      " 36%|███▌      | 36/100 [00:22<00:38,  1.68it/s]"
     ]
    },
    {
     "name": "stdout",
     "output_type": "stream",
     "text": [
      "Epoch 36, Train Loss: 0.000102, Val Loss: 0.000191\n"
     ]
    },
    {
     "name": "stderr",
     "output_type": "stream",
     "text": [
      " 37%|███▋      | 37/100 [00:22<00:37,  1.68it/s]"
     ]
    },
    {
     "name": "stdout",
     "output_type": "stream",
     "text": [
      "Epoch 37, Train Loss: 0.000101, Val Loss: 0.000195\n"
     ]
    },
    {
     "name": "stderr",
     "output_type": "stream",
     "text": [
      " 38%|███▊      | 38/100 [00:23<00:36,  1.69it/s]"
     ]
    },
    {
     "name": "stdout",
     "output_type": "stream",
     "text": [
      "Epoch 38, Train Loss: 0.000097, Val Loss: 0.000207\n"
     ]
    },
    {
     "name": "stderr",
     "output_type": "stream",
     "text": [
      " 39%|███▉      | 39/100 [00:23<00:36,  1.69it/s]"
     ]
    },
    {
     "name": "stdout",
     "output_type": "stream",
     "text": [
      "Epoch 39, Train Loss: 0.000096, Val Loss: 0.000193\n"
     ]
    },
    {
     "name": "stderr",
     "output_type": "stream",
     "text": [
      " 40%|████      | 40/100 [00:24<00:35,  1.71it/s]"
     ]
    },
    {
     "name": "stdout",
     "output_type": "stream",
     "text": [
      "Epoch 40, Train Loss: 0.000096, Val Loss: 0.000202\n"
     ]
    },
    {
     "name": "stderr",
     "output_type": "stream",
     "text": [
      " 41%|████      | 41/100 [00:25<00:35,  1.67it/s]"
     ]
    },
    {
     "name": "stdout",
     "output_type": "stream",
     "text": [
      "Epoch 41, Train Loss: 0.000088, Val Loss: 0.000184\n"
     ]
    },
    {
     "name": "stderr",
     "output_type": "stream",
     "text": [
      " 42%|████▏     | 42/100 [00:25<00:33,  1.72it/s]"
     ]
    },
    {
     "name": "stdout",
     "output_type": "stream",
     "text": [
      "Epoch 42, Train Loss: 0.000096, Val Loss: 0.000184\n"
     ]
    },
    {
     "name": "stderr",
     "output_type": "stream",
     "text": [
      " 43%|████▎     | 43/100 [00:26<00:33,  1.72it/s]"
     ]
    },
    {
     "name": "stdout",
     "output_type": "stream",
     "text": [
      "Epoch 43, Train Loss: 0.000100, Val Loss: 0.000206\n"
     ]
    },
    {
     "name": "stderr",
     "output_type": "stream",
     "text": [
      " 44%|████▍     | 44/100 [00:26<00:33,  1.69it/s]"
     ]
    },
    {
     "name": "stdout",
     "output_type": "stream",
     "text": [
      "Epoch 44, Train Loss: 0.000091, Val Loss: 0.000191\n"
     ]
    },
    {
     "name": "stderr",
     "output_type": "stream",
     "text": [
      " 45%|████▌     | 45/100 [00:27<00:32,  1.67it/s]"
     ]
    },
    {
     "name": "stdout",
     "output_type": "stream",
     "text": [
      "Epoch 45, Train Loss: 0.000094, Val Loss: 0.000190\n"
     ]
    },
    {
     "name": "stderr",
     "output_type": "stream",
     "text": [
      " 46%|████▌     | 46/100 [00:27<00:32,  1.66it/s]"
     ]
    },
    {
     "name": "stdout",
     "output_type": "stream",
     "text": [
      "Epoch 46, Train Loss: 0.000092, Val Loss: 0.000205\n"
     ]
    },
    {
     "name": "stderr",
     "output_type": "stream",
     "text": [
      " 47%|████▋     | 47/100 [00:28<00:32,  1.64it/s]"
     ]
    },
    {
     "name": "stdout",
     "output_type": "stream",
     "text": [
      "Epoch 47, Train Loss: 0.000096, Val Loss: 0.000206\n"
     ]
    },
    {
     "name": "stderr",
     "output_type": "stream",
     "text": [
      " 48%|████▊     | 48/100 [00:29<00:31,  1.64it/s]"
     ]
    },
    {
     "name": "stdout",
     "output_type": "stream",
     "text": [
      "Epoch 48, Train Loss: 0.000082, Val Loss: 0.000188\n"
     ]
    },
    {
     "name": "stderr",
     "output_type": "stream",
     "text": [
      " 49%|████▉     | 49/100 [00:29<00:30,  1.66it/s]"
     ]
    },
    {
     "name": "stdout",
     "output_type": "stream",
     "text": [
      "Epoch 49, Train Loss: 0.000081, Val Loss: 0.000189\n"
     ]
    },
    {
     "name": "stderr",
     "output_type": "stream",
     "text": [
      " 50%|█████     | 50/100 [00:30<00:29,  1.69it/s]"
     ]
    },
    {
     "name": "stdout",
     "output_type": "stream",
     "text": [
      "Epoch 50, Train Loss: 0.000090, Val Loss: 0.000197\n"
     ]
    },
    {
     "name": "stderr",
     "output_type": "stream",
     "text": [
      " 50%|█████     | 50/100 [00:30<00:30,  1.61it/s]\n"
     ]
    },
    {
     "name": "stdout",
     "output_type": "stream",
     "text": [
      "Early stopping at epoch 51\n",
      "Best validation loss: 0.00018360634034511998\n",
      "Training with parameters: {'hidden_size': 64, 'learning_rate': 0.001, 'num_layers': 1}\n"
     ]
    },
    {
     "name": "stderr",
     "output_type": "stream",
     "text": [
      "  0%|          | 0/100 [00:00<?, ?it/s]\n"
     ]
    },
    {
     "name": "stdout",
     "output_type": "stream",
     "text": [
      "Early stopping at epoch 1\n",
      "Best validation loss: 0.00018360634034511998\n",
      "Training with parameters: {'hidden_size': 64, 'learning_rate': 0.001, 'num_layers': 5}\n"
     ]
    },
    {
     "name": "stderr",
     "output_type": "stream",
     "text": [
      "  0%|          | 0/100 [00:00<?, ?it/s]\n"
     ]
    },
    {
     "name": "stdout",
     "output_type": "stream",
     "text": [
      "Early stopping at epoch 1\n",
      "Best validation loss: 0.00018360634034511998\n",
      "Training with parameters: {'hidden_size': 64, 'learning_rate': 0.0001, 'num_layers': 2}\n"
     ]
    },
    {
     "name": "stderr",
     "output_type": "stream",
     "text": [
      "  0%|          | 0/100 [00:00<?, ?it/s]\n"
     ]
    },
    {
     "name": "stdout",
     "output_type": "stream",
     "text": [
      "Early stopping at epoch 1\n",
      "Best validation loss: 0.00018360634034511998\n",
      "Training with parameters: {'hidden_size': 64, 'learning_rate': 0.0001, 'num_layers': 1}\n"
     ]
    },
    {
     "name": "stderr",
     "output_type": "stream",
     "text": [
      "  0%|          | 0/100 [00:00<?, ?it/s]\n"
     ]
    },
    {
     "name": "stdout",
     "output_type": "stream",
     "text": [
      "Early stopping at epoch 1\n",
      "Best validation loss: 0.00018360634034511998\n",
      "Training with parameters: {'hidden_size': 64, 'learning_rate': 0.0001, 'num_layers': 5}\n"
     ]
    },
    {
     "name": "stderr",
     "output_type": "stream",
     "text": [
      "  0%|          | 0/100 [00:00<?, ?it/s]\n"
     ]
    },
    {
     "name": "stdout",
     "output_type": "stream",
     "text": [
      "Early stopping at epoch 1\n",
      "Best validation loss: 0.00018360634034511998\n",
      "Training with parameters: {'hidden_size': 64, 'learning_rate': 1e-05, 'num_layers': 2}\n"
     ]
    },
    {
     "name": "stderr",
     "output_type": "stream",
     "text": [
      "  0%|          | 0/100 [00:00<?, ?it/s]\n"
     ]
    },
    {
     "name": "stdout",
     "output_type": "stream",
     "text": [
      "Early stopping at epoch 1\n",
      "Best validation loss: 0.00018360634034511998\n",
      "Training with parameters: {'hidden_size': 64, 'learning_rate': 1e-05, 'num_layers': 1}\n"
     ]
    },
    {
     "name": "stderr",
     "output_type": "stream",
     "text": [
      "  0%|          | 0/100 [00:00<?, ?it/s]\n"
     ]
    },
    {
     "name": "stdout",
     "output_type": "stream",
     "text": [
      "Early stopping at epoch 1\n",
      "Best validation loss: 0.00018360634034511998\n",
      "Training with parameters: {'hidden_size': 64, 'learning_rate': 1e-05, 'num_layers': 5}\n"
     ]
    },
    {
     "name": "stderr",
     "output_type": "stream",
     "text": [
      "  0%|          | 0/100 [00:00<?, ?it/s]\n"
     ]
    },
    {
     "name": "stdout",
     "output_type": "stream",
     "text": [
      "Early stopping at epoch 1\n",
      "Best validation loss: 0.00018360634034511998\n",
      "Training with parameters: {'hidden_size': 128, 'learning_rate': 0.001, 'num_layers': 2}\n"
     ]
    },
    {
     "name": "stderr",
     "output_type": "stream",
     "text": [
      "  0%|          | 0/100 [00:00<?, ?it/s]\n"
     ]
    },
    {
     "name": "stdout",
     "output_type": "stream",
     "text": [
      "Early stopping at epoch 1\n",
      "Best validation loss: 0.00018360634034511998\n",
      "Training with parameters: {'hidden_size': 128, 'learning_rate': 0.001, 'num_layers': 1}\n"
     ]
    },
    {
     "name": "stderr",
     "output_type": "stream",
     "text": [
      "  0%|          | 0/100 [00:00<?, ?it/s]\n"
     ]
    },
    {
     "name": "stdout",
     "output_type": "stream",
     "text": [
      "Early stopping at epoch 1\n",
      "Best validation loss: 0.00018360634034511998\n",
      "Training with parameters: {'hidden_size': 128, 'learning_rate': 0.001, 'num_layers': 5}\n"
     ]
    },
    {
     "name": "stderr",
     "output_type": "stream",
     "text": [
      "  0%|          | 0/100 [00:00<?, ?it/s]\n"
     ]
    },
    {
     "name": "stdout",
     "output_type": "stream",
     "text": [
      "Early stopping at epoch 1\n",
      "Best validation loss: 0.00018360634034511998\n",
      "Training with parameters: {'hidden_size': 128, 'learning_rate': 0.0001, 'num_layers': 2}\n"
     ]
    },
    {
     "name": "stderr",
     "output_type": "stream",
     "text": [
      "  0%|          | 0/100 [00:00<?, ?it/s]\n"
     ]
    },
    {
     "name": "stdout",
     "output_type": "stream",
     "text": [
      "Early stopping at epoch 1\n",
      "Best validation loss: 0.00018360634034511998\n",
      "Training with parameters: {'hidden_size': 128, 'learning_rate': 0.0001, 'num_layers': 1}\n"
     ]
    },
    {
     "name": "stderr",
     "output_type": "stream",
     "text": [
      "  0%|          | 0/100 [00:00<?, ?it/s]\n"
     ]
    },
    {
     "name": "stdout",
     "output_type": "stream",
     "text": [
      "Early stopping at epoch 1\n",
      "Best validation loss: 0.00018360634034511998\n",
      "Training with parameters: {'hidden_size': 128, 'learning_rate': 0.0001, 'num_layers': 5}\n"
     ]
    },
    {
     "name": "stderr",
     "output_type": "stream",
     "text": [
      "  0%|          | 0/100 [00:00<?, ?it/s]\n"
     ]
    },
    {
     "name": "stdout",
     "output_type": "stream",
     "text": [
      "Early stopping at epoch 1\n",
      "Best validation loss: 0.00018360634034511998\n",
      "Training with parameters: {'hidden_size': 128, 'learning_rate': 1e-05, 'num_layers': 2}\n"
     ]
    },
    {
     "name": "stderr",
     "output_type": "stream",
     "text": [
      "  0%|          | 0/100 [00:00<?, ?it/s]\n"
     ]
    },
    {
     "name": "stdout",
     "output_type": "stream",
     "text": [
      "Early stopping at epoch 1\n",
      "Best validation loss: 0.00018360634034511998\n",
      "Training with parameters: {'hidden_size': 128, 'learning_rate': 1e-05, 'num_layers': 1}\n"
     ]
    },
    {
     "name": "stderr",
     "output_type": "stream",
     "text": [
      "  0%|          | 0/100 [00:00<?, ?it/s]\n"
     ]
    },
    {
     "name": "stdout",
     "output_type": "stream",
     "text": [
      "Early stopping at epoch 1\n",
      "Best validation loss: 0.00018360634034511998\n",
      "Training with parameters: {'hidden_size': 128, 'learning_rate': 1e-05, 'num_layers': 5}\n"
     ]
    },
    {
     "name": "stderr",
     "output_type": "stream",
     "text": [
      "  0%|          | 0/100 [00:00<?, ?it/s]\n"
     ]
    },
    {
     "name": "stdout",
     "output_type": "stream",
     "text": [
      "Early stopping at epoch 1\n",
      "Best validation loss: 0.00018360634034511998\n",
      "Training with parameters: {'hidden_size': 256, 'learning_rate': 0.001, 'num_layers': 2}\n"
     ]
    },
    {
     "name": "stderr",
     "output_type": "stream",
     "text": [
      "  0%|          | 0/100 [00:00<?, ?it/s]\n"
     ]
    },
    {
     "name": "stdout",
     "output_type": "stream",
     "text": [
      "Early stopping at epoch 1\n",
      "Best validation loss: 0.00018360634034511998\n",
      "Training with parameters: {'hidden_size': 256, 'learning_rate': 0.001, 'num_layers': 1}\n"
     ]
    },
    {
     "name": "stderr",
     "output_type": "stream",
     "text": [
      "  0%|          | 0/100 [00:00<?, ?it/s]\n"
     ]
    },
    {
     "name": "stdout",
     "output_type": "stream",
     "text": [
      "Early stopping at epoch 1\n",
      "Best validation loss: 0.00018360634034511998\n",
      "Training with parameters: {'hidden_size': 256, 'learning_rate': 0.001, 'num_layers': 5}\n"
     ]
    },
    {
     "name": "stderr",
     "output_type": "stream",
     "text": [
      "  0%|          | 0/100 [00:00<?, ?it/s]\n"
     ]
    },
    {
     "name": "stdout",
     "output_type": "stream",
     "text": [
      "Early stopping at epoch 1\n",
      "Best validation loss: 0.00018360634034511998\n",
      "Training with parameters: {'hidden_size': 256, 'learning_rate': 0.0001, 'num_layers': 2}\n"
     ]
    },
    {
     "name": "stderr",
     "output_type": "stream",
     "text": [
      "  0%|          | 0/100 [00:00<?, ?it/s]\n"
     ]
    },
    {
     "name": "stdout",
     "output_type": "stream",
     "text": [
      "Early stopping at epoch 1\n",
      "Best validation loss: 0.00018360634034511998\n",
      "Training with parameters: {'hidden_size': 256, 'learning_rate': 0.0001, 'num_layers': 1}\n"
     ]
    },
    {
     "name": "stderr",
     "output_type": "stream",
     "text": [
      "  0%|          | 0/100 [00:00<?, ?it/s]\n"
     ]
    },
    {
     "name": "stdout",
     "output_type": "stream",
     "text": [
      "Early stopping at epoch 1\n",
      "Best validation loss: 0.00018360634034511998\n",
      "Training with parameters: {'hidden_size': 256, 'learning_rate': 0.0001, 'num_layers': 5}\n"
     ]
    },
    {
     "name": "stderr",
     "output_type": "stream",
     "text": [
      "  0%|          | 0/100 [00:00<?, ?it/s]\n"
     ]
    },
    {
     "name": "stdout",
     "output_type": "stream",
     "text": [
      "Early stopping at epoch 1\n",
      "Best validation loss: 0.00018360634034511998\n",
      "Training with parameters: {'hidden_size': 256, 'learning_rate': 1e-05, 'num_layers': 2}\n"
     ]
    },
    {
     "name": "stderr",
     "output_type": "stream",
     "text": [
      "  0%|          | 0/100 [00:00<?, ?it/s]\n"
     ]
    },
    {
     "name": "stdout",
     "output_type": "stream",
     "text": [
      "Early stopping at epoch 1\n",
      "Best validation loss: 0.00018360634034511998\n",
      "Training with parameters: {'hidden_size': 256, 'learning_rate': 1e-05, 'num_layers': 1}\n"
     ]
    },
    {
     "name": "stderr",
     "output_type": "stream",
     "text": [
      "  0%|          | 0/100 [00:00<?, ?it/s]\n"
     ]
    },
    {
     "name": "stdout",
     "output_type": "stream",
     "text": [
      "Early stopping at epoch 1\n",
      "Best validation loss: 0.00018360634034511998\n",
      "Training with parameters: {'hidden_size': 256, 'learning_rate': 1e-05, 'num_layers': 5}\n"
     ]
    },
    {
     "name": "stderr",
     "output_type": "stream",
     "text": [
      "  0%|          | 0/100 [00:00<?, ?it/s]"
     ]
    },
    {
     "name": "stdout",
     "output_type": "stream",
     "text": [
      "Early stopping at epoch 1\n",
      "Best validation loss: 0.00018360634034511998\n"
     ]
    },
    {
     "name": "stderr",
     "output_type": "stream",
     "text": [
      "\n"
     ]
    },
    {
     "data": {
      "text/plain": [
       "tensor([[-0.0246],\n",
       "        [-0.0246],\n",
       "        [-0.0245],\n",
       "        ...,\n",
       "        [-0.0248],\n",
       "        [-0.0248],\n",
       "        [-0.0248]], device='cuda:0')"
      ]
     },
     "execution_count": 17,
     "metadata": {},
     "output_type": "execute_result"
    }
   ],
   "source": [
    "class LSTM(torch.nn.Module):\n",
    "    def __init__(self, input_size=1, hidden_size=64, num_layers=2, dropout=0.3, output_size=1):\n",
    "        super().__init__()\n",
    "        self.lstm = torch.nn.LSTM(input_size, hidden_size, num_layers, batch_first=True, dropout=dropout)\n",
    "        self.fc = torch.nn.Linear(hidden_size, output_size)\n",
    "\n",
    "    def forward(self, x):\n",
    "        x, h = self.lstm(x) \n",
    "        # [ Batch, time steps, features ] --> [ Batch x time steps, features ]\n",
    "        x = x[:, -1]\n",
    "        # print(x.shape)\n",
    "        y = self.fc(x)\n",
    "        # print(y.shape)\n",
    "        return y\n",
    "    \n",
    "\n",
    "lstm = LSTM()\n",
    "\n",
    "lstm.lstm.weight_ih_l0.shape, lstm.lstm.bias_ih_l0.shape\n",
    "lstm.lstm.weight_hh_l0.shape, lstm.lstm.bias_hh_l0.shape\n",
    "\n",
    "param_grid = {\n",
    "    'learning_rate': [0.001, 0.0001, 0.00001],\n",
    "    'hidden_size': [64, 128, 256],\n",
    "    'num_layers': [2, 1, 5]\n",
    "}\n",
    "results = fit1(lstm, dataloader, param_grid)\n",
    "\n",
    "\n",
    "# results = fit(lstm, dataloader)\n",
    "\n",
    "\n",
    "# results = fit1(lstm, dataloader, param_grid)\n",
    "\n",
    "# # lstm.to(device)\n",
    "\n",
    "y_pred = predict(lstm, dataloader['test'])\n",
    "y_pred\n"
   ]
  },
  {
   "cell_type": "code",
   "execution_count": 14,
   "metadata": {},
   "outputs": [],
   "source": [
    "# X = X_test\n",
    "# print(X.shape)\n",
    "# for step_ahead in range(len(dataset_test)):\n",
    "#     inputs = torch.from_numpy(X[:,step_ahead:]).unsqueeze(0) # Con este iterable (step_ahead:) se va desplazando la ventana de tiempo desde el numero actual de valores hasta el final de numeros que deseo predecir\n",
    "#     y_pred_one = predict(lstm, inputs).cpu().numpy()\n",
    "#     y_pred_list.append(y_pred_one)\n",
    "#     X = np.concatenate([X, y_pred_one[:, np.newaxis, :]], axis=1)\n",
    "#     print(X.shape)\n",
    "\n",
    "# y_pred = X[:, -dataset_test.isnull().sum().values[0]:, -1]\n",
    "# y_RNN_O_test = scaler.inverse_transform(y_pred) \n",
    "# # y_RNN_O_test = y_RNN_O_test.reshape(-1,1)\n",
    "# y_RNN_O_test = y_RNN_O_test[y_RNN_O_test.shape[1]-1:y_RNN_O_test.shape[1]] \n",
    "\n",
    "train_preds = scaler.inverse_transform(results['train_predictions'][-1])\n",
    "val_preds = scaler.inverse_transform(results['val_predictions'][-1])\n",
    "train_actuals = scaler.inverse_transform(results['train_actuals'][-1])\n",
    "val_actuals = scaler.inverse_transform(results['val_actuals'][-1])\n",
    "\n",
    "mse, rmse, mae, r2, mape = calculate_metrics(val_actuals.flatten(), val_preds.flatten())\n",
    "metrics_history.append((mse, rmse, mae, r2, mape))"
   ]
  },
  {
   "cell_type": "code",
   "execution_count": 15,
   "metadata": {},
   "outputs": [
    {
     "ename": "NameError",
     "evalue": "name 'train_preds' is not defined",
     "output_type": "error",
     "traceback": [
      "\u001b[0;31m---------------------------------------------------------------------------\u001b[0m",
      "\u001b[0;31mNameError\u001b[0m                                 Traceback (most recent call last)",
      "Cell \u001b[0;32mIn[15], line 2\u001b[0m\n\u001b[1;32m      1\u001b[0m \u001b[38;5;66;03m# Crear índices de fecha para las predicciones\u001b[39;00m\n\u001b[0;32m----> 2\u001b[0m train_dates \u001b[38;5;241m=\u001b[39m dataset_train\u001b[38;5;241m.\u001b[39mindex[\u001b[38;5;241m-\u001b[39m\u001b[38;5;28mlen\u001b[39m(\u001b[43mtrain_preds\u001b[49m):]\n\u001b[1;32m      3\u001b[0m val_dates \u001b[38;5;241m=\u001b[39m dataset_val\u001b[38;5;241m.\u001b[39mindex[\u001b[38;5;241m-\u001b[39m\u001b[38;5;28mlen\u001b[39m(val_preds):]\n\u001b[1;32m      5\u001b[0m \u001b[38;5;66;03m#Obtener el primer indice de dataset_test\u001b[39;00m\n",
      "\u001b[0;31mNameError\u001b[0m: name 'train_preds' is not defined"
     ]
    }
   ],
   "source": [
    "# Crear índices de fecha para las predicciones\n",
    "train_dates = dataset_train.index[-len(train_preds):]\n",
    "val_dates = dataset_val.index[-len(val_preds):]\n",
    "\n",
    "#Obtener el primer indice de dataset_test\n",
    "date = dataset_test[len(dataset_test)-y_pred.shape[0]:].index\n",
    "date = date.to_numpy().reshape(-1, 1)\n",
    "fig, ax = plt.subplots(1,figsize=(25, 10), sharex=True, sharey=True)\n",
    "fig.suptitle('Comparacion de los modelos RNN, LSTM y GRU')\n",
    "\n",
    "# predictions_df = pd.DataFrame(y_RNN_O_test, index=date.flatten(), columns=[variable])\n",
    "# predictions_df = predictions_df.loc[~predictions_df.index.duplicated(keep='first')]\n",
    "# print(\"Fecha de inicio para la actualizacion de los datos: \", predictions_df.index[0])\n",
    "# print(\"Fecha de fin para la actualizacion de los datos: \", predictions_df.index[-1])\n",
    "\n",
    "ax.plot(dataset_train.index, dataset_train, label = 'Train', color = 'blue')\n",
    "ax.plot(dataset_val.index, dataset_val, color = 'g', label = 'Val')\n",
    "# ax.plot(train_dates[:len(train_preds)], train_preds, color='lightblue', label='Predicción Entrenamiento', linestyle='--')\n",
    "# ax.plot(train_dates, train_preds, color='lightblue', label='Predicción Entrenamiento', linestyle='--')\n",
    "# Graficar predicciones de validación\n",
    "ax.plot(val_dates, val_preds, color='brown', label='Predicción Validación', linewidth=2)\n",
    "ax.plot(dataset_test.index, dataset_test, color='g', label=' Real Test', linewidth=2)  \n",
    "ax.plot(date, y_pred.flatten().cpu(), color='red', label='Predicción Test', linewidth=2)\n",
    "ax.legend()\n",
    "ax.set_title('Basic RNN')  \n",
    "\n",
    "plt.xlabel('Fecha')\n",
    "plt.ylabel('Nivel del rio')\n",
    "plt.show() "
   ]
  },
  {
   "cell_type": "code",
   "execution_count": null,
   "metadata": {},
   "outputs": [
    {
     "data": {
      "image/png": "[encoded data removed]",
      "text/plain": [
       "<Figure size 1500x1000 with 6 Axes>"
      ]
     },
     "metadata": {},
     "output_type": "display_data"
    },
    {
     "data": {
      "image/png": "[encoded data removed]",
      "text/plain": [
       "<Figure size 1000x600 with 1 Axes>"
      ]
     },
     "metadata": {},
     "output_type": "display_data"
    },
    {
     "name": "stdout",
     "output_type": "stream",
     "text": [
      "MSE: 0.0304\n",
      "RMSE: 0.1745\n",
      "MAE: 0.1700\n",
      "R2 Score: -18.4186\n",
      "MAPE: 1.2149\n",
      "\n",
      "Evaluación final del modelo:\n",
      "MSE final: 0.0304\n",
      "RMSE final: 0.1745\n",
      "MAE final: 0.1700\n",
      "R2 Score final: -18.4186\n",
      "MAPE final: 1.2149\n"
     ]
    }
   ],
   "source": [
    "plot_evaluation_metrics(metrics_history)\n",
    "\n",
    "# Para el conjunto de validación\n",
    "plot_residuals(val_actuals, val_preds)\n",
    "\n",
    "# print(imputation_lluvia_aitsu[nan_sequences[x]['start_date']:nan_sequences[x]['end_date']])\n",
    "\n",
    "# imputation_lluvia_aitsu.update(predictions_df)\n",
    "# imputation_lluvia_aitsu.describe()\n",
    "# imputation_lluvia_aitsu_sin_duplicados.update(predictions_df)\n",
    "# imputation_lluvia_aitsu_sin_duplicados.describe()\n",
    "\n",
    "\n",
    "# print(imputation_lluvia_aitsu_sin_duplicados[nan_sequences[x]['start_date']:nan_sequences[x]['end_date']])\n",
    "a = dataset_test.values[120:]\n",
    "final_metrics = calculate_metrics(a, y_pred.flatten().cpu().numpy())\n",
    "\n",
    "print(\"\\nEvaluación final del modelo:\")\n",
    "print(f\"MSE final: {final_metrics[0]:.4f}\")\n",
    "print(f\"RMSE final: {final_metrics[1]:.4f}\")\n",
    "print(f\"MAE final: {final_metrics[2]:.4f}\")\n",
    "print(f\"R2 Score final: {final_metrics[3]:.4f}\")\n",
    "print(f\"MAPE final: {final_metrics[4]:.4f}\")\n",
    "\n",
    "# # Graficar comparación final\n",
    "# plt.figure(figsize=(15, 6))\n",
    "# plt.plot(imputation_lluvia_aitsu_sin_duplicados.index, imputation_lluvia_aitsu_sin_duplicados.values, label='Predicciones', color='red')\n",
    "# plt.plot(imputation_lluvia_aitsu.index, imputation_lluvia_aitsu.values, label='Valores Reales', color='blue')\n",
    "# plt.title('Comparación Final: Predicciones vs Valores Reales')\n",
    "# plt.xlabel('Fecha')\n",
    "# plt.ylabel('Nivel del Río')\n",
    "# plt.legend()\n",
    "# plt.show()"
   ]
  },
  {
   "cell_type": "code",
   "execution_count": null,
   "metadata": {},
   "outputs": [],
   "source": []
  },
  {
   "cell_type": "code",
   "execution_count": null,
   "metadata": {},
   "outputs": [],
   "source": []
  }
 ],
 "metadata": {
  "kernelspec": {
   "display_name": "pytorch_ia4flood",
   "language": "python",
   "name": "python3"
  },
  "language_info": {
   "codemirror_mode": {
    "name": "ipython",
    "version": 3
   },
   "file_extension": ".py",
   "mimetype": "text/x-python",
   "name": "python",
   "nbconvert_exporter": "python",
   "pygments_lexer": "ipython3",
   "version": "3.8.19"
  }
 },
 "nbformat": 4,
 "nbformat_minor": 2
}
